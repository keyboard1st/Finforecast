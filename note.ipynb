{
 "cells": [
  {
   "metadata": {
    "ExecuteTime": {
     "end_time": "2025-05-21T05:10:25.257080Z",
     "start_time": "2025-05-21T05:10:21.637387Z"
    }
   },
   "cell_type": "code",
   "source": [
    "import pandas as pd\n",
    "import numpy as np\n",
    "from tqdm import tqdm\n",
    "import torch\n",
    "from get_data.data_align_and_save.process_tools import *\n",
    "from concurrent import futures\n",
    "import sys\n",
    "sys.argv = ['']\n",
    "from config import get_config\n",
    "config = get_config()"
   ],
   "id": "f11f0d165d0d2558",
   "outputs": [],
   "execution_count": 1
  },
  {
   "metadata": {
    "ExecuteTime": {
     "end_time": "2025-05-21T05:10:25.294870Z",
     "start_time": "2025-05-21T05:10:25.283406Z"
    }
   },
   "cell_type": "code",
   "source": "from get_data.data_align_and_save.process_tools import *",
   "id": "c5ae42d577f189dc",
   "outputs": [],
   "execution_count": 2
  },
  {
   "metadata": {
    "ExecuteTime": {
     "end_time": "2025-05-21T05:10:32.837446Z",
     "start_time": "2025-05-21T05:10:27.035996Z"
    }
   },
   "cell_type": "code",
   "source": "f = pd.read_parquet('/home/USB_DRIVE1/Chenx_datawarehouse/5min_features_ori/volume_5min.parquet')",
   "id": "1f21364cd95a4686",
   "outputs": [],
   "execution_count": 3
  },
  {
   "metadata": {
    "ExecuteTime": {
     "end_time": "2025-05-21T05:10:34.295169Z",
     "start_time": "2025-05-21T05:10:32.858026Z"
    }
   },
   "cell_type": "code",
   "source": "inner, outer = split_by_datetime_index(f)",
   "id": "fc7ca02b24944f50",
   "outputs": [],
   "execution_count": 4
  },
  {
   "metadata": {
    "ExecuteTime": {
     "end_time": "2025-05-21T05:10:35.137515Z",
     "start_time": "2025-05-21T05:10:34.340290Z"
    }
   },
   "cell_type": "code",
   "source": "market = pd.read_parquet('/home/hongkou/chenx/data_warehouse/marketcap.parquet')",
   "id": "bbd3f4d80a6f49e3",
   "outputs": [],
   "execution_count": 5
  },
  {
   "metadata": {
    "ExecuteTime": {
     "end_time": "2025-05-21T05:10:35.240Z",
     "start_time": "2025-05-21T05:10:35.186721Z"
    }
   },
   "cell_type": "code",
   "source": "market_inner, market_outer = split_by_datetime_index(market)",
   "id": "7145d36f95a24448",
   "outputs": [],
   "execution_count": 6
  },
  {
   "metadata": {
    "ExecuteTime": {
     "end_time": "2025-05-21T05:10:35.330606Z",
     "start_time": "2025-05-21T05:10:35.325168Z"
    }
   },
   "cell_type": "code",
   "source": [
    "def minute_align_fix_with_market(factor_value:pd.DataFrame, marketcap:pd.DataFrame):\n",
    "    '''\n",
    "        因子值与marketcap对齐并填均(裁剪)值然后mask.\n",
    "        Params:\n",
    "            factor_value: 待对齐的因子值\n",
    "            marketcap: 待对齐的marketcap\n",
    "        Returns\n",
    "        ---\n",
    "        factor_value\n",
    "            对齐后的因子值\n",
    "    '''\n",
    "    common_cols = factor_value.columns.union(marketcap.columns)\n",
    "    factor_value = factor_value.reindex(columns=common_cols)\n",
    "    marketcap = marketcap.reindex(columns=common_cols)\n",
    "    factor_value = factor_value.apply(adjust_row, axis=1)\n",
    "    marketcap.index = pd.to_datetime(marketcap.index)\n",
    "    upsampled = marketcap.reindex(inner.index.normalize())\n",
    "    upsampled.index = inner.index\n",
    "    factor_value = factor_value.where(upsampled>0)\n",
    "\n",
    "    return factor_value"
   ],
   "id": "a31d6a639f744122",
   "outputs": [],
   "execution_count": 7
  },
  {
   "metadata": {
    "ExecuteTime": {
     "end_time": "2025-05-21T05:12:35.046504Z",
     "start_time": "2025-05-21T05:10:35.491023Z"
    }
   },
   "cell_type": "code",
   "source": "inner_aligned = minute_align_fix_with_market(inner, market_inner)",
   "id": "6862cdb54b0079c3",
   "outputs": [],
   "execution_count": 8
  },
  {
   "metadata": {
    "ExecuteTime": {
     "end_time": "2025-05-21T05:18:13.972585Z",
     "start_time": "2025-05-21T05:18:13.969445Z"
    }
   },
   "cell_type": "code",
   "source": [
    "def standard(df):\n",
    "    return (df.sub(df.mean(axis=1), axis=0)).div(df.std(axis=1), axis=0)"
   ],
   "id": "cb38f8a370779246",
   "outputs": [],
   "execution_count": 9
  },
  {
   "metadata": {
    "ExecuteTime": {
     "end_time": "2025-05-21T05:18:20.061257Z",
     "start_time": "2025-05-21T05:18:15.233074Z"
    }
   },
   "cell_type": "code",
   "source": "inner_aligned_std = standard(inner_aligned)",
   "id": "dd5422f96bb3d0e1",
   "outputs": [],
   "execution_count": 10
  },
  {
   "metadata": {
    "ExecuteTime": {
     "end_time": "2025-05-21T05:50:35.834255Z",
     "start_time": "2025-05-21T05:48:24.507526Z"
    }
   },
   "cell_type": "code",
   "source": [
    "from get_data.CY312.CY312_rollingtrain_dataloader import get_CY312_rollingtrain_CrossSectionLoader\n",
    "CrossSection_trainloader, CrossSection_testloader = get_CY312_rollingtrain_CrossSectionLoader(batchsize=\"all\", shuffle_time=False, time_period = config.time_period)"
   ],
   "id": "58349730c2c3a841",
   "outputs": [
    {
     "name": "stderr",
     "output_type": "stream",
     "text": [
      "/home/hongkou/anaconda3/envs/timeseries/lib/python3.10/site-packages/pandas/core/nanops.py:1016: RuntimeWarning: invalid value encountered in subtract\n",
      "  sqr = _ensure_numeric((avg - values) ** 2)\n",
      "/home/hongkou/anaconda3/envs/timeseries/lib/python3.10/site-packages/pandas/core/nanops.py:1016: RuntimeWarning: invalid value encountered in subtract\n",
      "  sqr = _ensure_numeric((avg - values) ** 2)\n"
     ]
    },
    {
     "name": "stdout",
     "output_type": "stream",
     "text": [
      "total data shape: (3873, 969, 313)\n"
     ]
    },
    {
     "name": "stderr",
     "output_type": "stream",
     "text": [
      "/home/hongkou/anaconda3/envs/timeseries/lib/python3.10/site-packages/pandas/core/nanops.py:1016: RuntimeWarning: invalid value encountered in subtract\n",
      "  sqr = _ensure_numeric((avg - values) ** 2)\n",
      "/home/hongkou/anaconda3/envs/timeseries/lib/python3.10/site-packages/pandas/core/nanops.py:1016: RuntimeWarning: invalid value encountered in subtract\n",
      "  sqr = _ensure_numeric((avg - values) ** 2)\n"
     ]
    },
    {
     "name": "stdout",
     "output_type": "stream",
     "text": [
      "total data shape: (3873, 243, 313)\n"
     ]
    }
   ],
   "execution_count": 11
  },
  {
   "metadata": {
    "ExecuteTime": {
     "end_time": "2025-05-21T05:50:36.371600Z",
     "start_time": "2025-05-21T05:50:35.926736Z"
    }
   },
   "cell_type": "code",
   "source": [
    "def lgb_train_and_test(trainloader, testloader):\n",
    "    '''\n",
    "    :return: 两个arr\n",
    "    '''\n",
    "    train_set = next(iter(trainloader))\n",
    "    train_data = train_set.reshape(-1, train_set.shape[-1])\n",
    "    mask = ~torch.isnan(train_data[:, -1])\n",
    "    train_data = train_data[mask]\n",
    "\n",
    "    # train_nan_mask = torch.isnan(train_data)\n",
    "    # train_nan_counts = train_nan_mask.sum(dim=1)\n",
    "    # train_indices = torch.where(train_nan_counts <= 8)[0]\n",
    "    # train_data = train_data[train_indices]\n",
    "\n",
    "    train_data = np.array(train_data)\n",
    "    train_data_x = train_data[:, :-1]\n",
    "    train_data_y = train_data[:, -1]\n",
    "\n",
    "    model = lgb.LGBMRegressor(learning_rate=0.07, n_estimators=350)\n",
    "\n",
    "    model.fit(train_data_x, train_data_y)\n",
    "    model.booster_.save_model(os.path.join(config.exp_path, 'models/lgbm.txt'))\n",
    "\n",
    "    test_pred, test_true = tree_test(testloader, model)     # (292, 3873)\n",
    "\n",
    "    return test_pred, test_true"
   ],
   "id": "17e6f326d79e9e11",
   "outputs": [],
   "execution_count": 12
  },
  {
   "metadata": {
    "ExecuteTime": {
     "end_time": "2025-05-21T05:51:23.138194Z",
     "start_time": "2025-05-21T05:50:36.387740Z"
    }
   },
   "cell_type": "code",
   "source": "lgb_pred_arr, lgb_ture = lgb_train_and_test(CrossSection_trainloader, CrossSection_testloader)",
   "id": "4f8f98232d97689d",
   "outputs": [
    {
     "name": "stdout",
     "output_type": "stream",
     "text": [
      "[LightGBM] [Info] Auto-choosing col-wise multi-threading, the overhead of testing was 0.466646 seconds.\n",
      "You can set `force_col_wise=true` to remove the overhead.\n",
      "[LightGBM] [Info] Total Bins 79560\n",
      "[LightGBM] [Info] Number of data points in the train set: 2949429, number of used features: 312\n",
      "[LightGBM] [Info] Start training from score 0.000000\n",
      "\n",
      "lgbm test ic: 0.07990158444568084\n"
     ]
    }
   ],
   "execution_count": 13
  }
 ],
 "metadata": {
  "kernelspec": {
   "display_name": "Python 3",
   "language": "python",
   "name": "python3"
  },
  "language_info": {
   "codemirror_mode": {
    "name": "ipython",
    "version": 2
   },
   "file_extension": ".py",
   "mimetype": "text/x-python",
   "name": "python",
   "nbconvert_exporter": "python",
   "pygments_lexer": "ipython2",
   "version": "2.7.6"
  }
 },
 "nbformat": 4,
 "nbformat_minor": 5
}
